{
 "cells": [
  {
   "cell_type": "code",
   "execution_count": 15,
   "metadata": {},
   "outputs": [],
   "source": [
    "import json\n",
    "import os\n",
    "import shopify\n",
    "import pickle\n",
    "from dotenv import load_dotenv"
   ]
  },
  {
   "cell_type": "code",
   "execution_count": 16,
   "metadata": {},
   "outputs": [],
   "source": [
    "\n",
    "load_dotenv()\n",
    "session = shopify.Session(os.environ[\"SHOPIFY_SHOP_URL\"], os.environ[\"SHOPIFY_API_VERSION\"], os.environ[\"SHOPIFY_ACCESS_TOKEN\"])\n",
    "shopify.ShopifyResource.activate_session(session)"
   ]
  },
  {
   "cell_type": "code",
   "execution_count": null,
   "metadata": {},
   "outputs": [],
   "source": [
    "description = \"Find user id by email. If the user is not found, the function will return an error message.\"\n",
    "slots = [\n",
    "    {\n",
    "        \"name\": \"email\",\n",
    "        \"type\": \"string\",\n",
    "        \"description\": \"The email of the user, such as 'something@example.com'.\",\n",
    "        \"prompt\": \"In order to proceed, please provide the email for identity verification.\",\n",
    "        \"required\": True,\n",
    "    }\n",
    "]\n",
    "outputs = [\n",
    "    {\n",
    "        \"name\": \"user_id\",\n",
    "        \"type\": \"string\",\n",
    "        \"description\": \"The user id of the user. such as 'gid://shopify/Customer/13573257450893'.\",\n",
    "    }\n",
    "]\n",
    "\n",
    "USER_NOT_FOUND_ERROR = \"error: user not found\"\n",
    "MULTIPLE_USERS_SAME_EMAIL_ERROR = \"error: there are multiple users with the same email\"\n",
    "\n",
    "def find_user_id_by_email(email: str) -> str:\n",
    "    user_id = \"\"\n",
    "    try:\n",
    "        response = shopify.GraphQL().execute(f\"\"\"\n",
    "            {{\n",
    "                customers (first: 10, query: \"email:{email}\") {{\n",
    "                    edges {{\n",
    "                        node {{\n",
    "                            id\n",
    "                        }}\n",
    "                    }}\n",
    "                }}\n",
    "            }}\n",
    "            \"\"\")\n",
    "        nodes = json.loads(response)[\"data\"][\"customers\"][\"edges\"]\n",
    "        if len(nodes) == 1:\n",
    "            user_id = nodes[0][\"node\"][\"id\"]\n",
    "            return user_id\n",
    "        else:\n",
    "            return MULTIPLE_USERS_SAME_EMAIL_ERROR\n",
    "    except Exception as e:\n",
    "        return USER_NOT_FOUND_ERROR"
   ]
  },
  {
   "cell_type": "code",
   "execution_count": 79,
   "metadata": {},
   "outputs": [
    {
     "data": {
      "text/plain": [
       "'gid://shopify/Customer/7450970259569'"
      ]
     },
     "execution_count": 79,
     "metadata": {},
     "output_type": "execute_result"
    }
   ],
   "source": [
    "find_user_id_by_email(\"luyunan0404@gmail.com\")"
   ]
  },
  {
   "cell_type": "code",
   "execution_count": null,
   "metadata": {},
   "outputs": [],
   "source": [
    "description = \"Search collections by string query. If no collections are found, the function will return an error message.\"\n",
    "slots = [\n",
    "    {\n",
    "        \"name\": \"query\",\n",
    "        \"type\": \"string\",\n",
    "        \"description\": \"The string query to search collections, such as 'Hats'. If query is empty string, it returns all collections. If there is only 1 product, return in list with single item.\",\n",
    "        \"prompt\": \"In order to proceed, please provide a query for the collections search.\",\n",
    "        \"required\": False,\n",
    "    }\n",
    "]\n",
    "outputs = [\n",
    "    {\n",
    "        \"name\": \"user_id\",\n",
    "        \"type\": \"string\",\n",
    "        \"description\": \"A list of up to 10 collections that satisfies the query. Such as \",\n",
    "    }\n",
    "]\n",
    "COLLECTION_SEARCH_ERROR = \"error: catalog search failed\"\n",
    "COLLECTION_NOT_FOUND_ERROR = \"no collections found\"\n",
    "\n",
    "def search_collections(query: str) -> str:\n",
    "    user_id = \"\"\n",
    "    \n",
    "    try:\n",
    "        response = shopify.GraphQL().execute(f\"\"\"\n",
    "            {{\n",
    "                collections (first: 10, query: \"{query}\") {{\n",
    "                    edges {{\n",
    "                        node {{\n",
    "                            description\n",
    "                            title\n",
    "                            id\n",
    "                            productsCount {{\n",
    "                                count\n",
    "                            }}\n",
    "                        }}  \n",
    "                    }}\n",
    "                    nodes {{\n",
    "                        description\n",
    "                        title\n",
    "                        id\n",
    "                        productsCount {{\n",
    "                            count\n",
    "                        }}\n",
    "                    }}  \n",
    "                }}\n",
    "            }}\n",
    "            \"\"\")\n",
    "        display(json.loads(response))\n",
    "        nodes = json.loads(response)[\"data\"][\"collections\"][\"edges\"]\n",
    "        display()\n",
    "        if len(nodes):\n",
    "            return [c['node'] for c in nodes]\n",
    "        else:\n",
    "            return COLLECTION_NOT_FOUND_ERROR\n",
    "    \n",
    "    except Exception as e:\n",
    "        return COLLECTION_SEARCH_ERROR"
   ]
  },
  {
   "cell_type": "code",
   "execution_count": 116,
   "metadata": {},
   "outputs": [
    {
     "data": {
      "text/plain": [
       "{'data': {'collections': {'edges': [{'node': {'description': '',\n",
       "      'title': 'Beddings and Pillows',\n",
       "      'id': 'gid://shopify/Collection/284023292017',\n",
       "      'productsCount': {'count': 6}}},\n",
       "    {'node': {'description': '',\n",
       "      'title': 'Bedding',\n",
       "      'id': 'gid://shopify/Collection/284607709297',\n",
       "      'productsCount': {'count': 4}}}],\n",
       "   'nodes': [{'description': '',\n",
       "     'title': 'Beddings and Pillows',\n",
       "     'id': 'gid://shopify/Collection/284023292017',\n",
       "     'productsCount': {'count': 6}},\n",
       "    {'description': '',\n",
       "     'title': 'Bedding',\n",
       "     'id': 'gid://shopify/Collection/284607709297',\n",
       "     'productsCount': {'count': 4}}]}},\n",
       " 'extensions': {'cost': {'requestedQueryCost': 18,\n",
       "   'actualQueryCost': 6,\n",
       "   'throttleStatus': {'maximumAvailable': 2000.0,\n",
       "    'currentlyAvailable': 1994,\n",
       "    'restoreRate': 100.0}}}}"
      ]
     },
     "metadata": {},
     "output_type": "display_data"
    },
    {
     "data": {
      "text/plain": [
       "[{'description': '',\n",
       "  'title': 'Beddings and Pillows',\n",
       "  'id': 'gid://shopify/Collection/284023292017',\n",
       "  'productsCount': {'count': 6}},\n",
       " {'description': '',\n",
       "  'title': 'Bedding',\n",
       "  'id': 'gid://shopify/Collection/284607709297',\n",
       "  'productsCount': {'count': 4}}]"
      ]
     },
     "metadata": {},
     "output_type": "display_data"
    },
    {
     "data": {
      "text/plain": [
       "'gid://shopify/Collection/284023292017'"
      ]
     },
     "execution_count": 116,
     "metadata": {},
     "output_type": "execute_result"
    }
   ],
   "source": [
    "get_collections(\"bedding\")"
   ]
  },
  {
   "cell_type": "code",
   "execution_count": null,
   "metadata": {},
   "outputs": [],
   "source": []
  },
  {
   "cell_type": "code",
   "execution_count": null,
   "metadata": {},
   "outputs": [],
   "source": []
  },
  {
   "cell_type": "code",
   "execution_count": 47,
   "metadata": {},
   "outputs": [
    {
     "data": {
      "text/plain": [
       "[Document(metadata={'title': 'mmermind fleece blankets and throws Adult Thick Warm winter Blankets Home Super Soft duvet luxury solid Blankets On twin Bedding'}, page_content='Brand Name: mmermindOrigin: CN(Origin)Material: 100% PolyesterFeature: Anti-PillingPattern Type: SolidSeason: WinterType: Coral Fleece FabricGrade: Grade AModel Number: SG52Pattern: FlockedStyle: ModernSet Type: NoColor Fastness (Grade): 4Technics: NonwovenShape: SquareUse: HospitalUse: HomeUse: HOTELWeight: 1000gWash Style: Mechanical WashAge Group: Adultsfleece blankets: fleece blanketswinter Blankets: winter Blankets'),\n",
       " Document(metadata={'title': 'Winter Flannel Blanket Solid Color Plaid Coral Blanket Fleece Bedspread For Bed Sofa Thicken Plush Blanket Thin Quilt Home Decor'}, page_content='Origin: CN(Origin)Material: Microfiber FabricFeature: HeatedFeature: Anti-PillingFeature: PortablePattern Type: SolidSeason: WinterType: Flannel FabricGrade: Grade AModel Number: MT005Pattern: Plain DyedStyle: ModernSet Type: NoColor Fastness (Grade): 3Technics: WovenShape: RectangleUse: PicnicUse: TravelUse: MilitaryUse: HospitalUse: HomeUse: HOTELUse: AirplaneWeight: 0.59-1.45kgWash Style: Mechanical WashAge Group: Adultshome blanket: bed cover blanket, Bedspreads BlanketsColor: Pink, Yellow, Cream, Grey-Blue, GreyMaterial: Flannel fabric'),\n",
       " Document(metadata={'title': 'Nordic Knitted Blanket Soild Color Sofa Throw Blanket With Tassels Travel TV Nap Blankets Air Condition Blankets Bed Decorative'}, page_content='Origin: CN(Origin)Material: Polyester / AcrylicFeature: HeatedFeature: PortablePattern Type: GeometricSeason: Spring/AutumnType: Thread Blanket/Towel BlanketGrade: Grade AModel Number: MT007Pattern: Yarn DyedStyle: PastoralSet Type: NoColor Fastness (Grade): 4Technics: KnittingShape: RectangleUse: PicnicUse: TravelUse: MilitaryUse: HospitalUse: HomeUse: HOTELUse: AirplaneWeight: 0.525KgWash Style: Hand WashAge Group: Adultshome blanket: bed cover blanket, Bedspreads BlanketsColor: Yellow and GreyMaterial: AcrylicType: Knitted blanket, Woolen blanketProduct Care: Hand wash at room temperatureSeason: Winter, Spring and AutumnPicture Type: Yellow and Grey Plaid, Geometry, Soild ColorAge Group: AdultsBlanket: blanket bedspread, home blanket with tassels'),\n",
       " Document(metadata={'title': 'Flower Plush Throw Pillow Soft Plant Cartoon Chair Cushion Living Bedroom Home Decorative Pillows Sofa Cushions Birthday Gifts'}, page_content='Origin: CN(Origin)Type: Seat Cushion/Back CushionFeature: MemorySet Type: NoUnpick and Wash: Not Removable and WashablePattern: PRINTEDis_customized: NoStyle: MEDITERRANEANModel Number: P161Technics: KnittedShape: RoundPattern Type: cartoonFilling: CottonMaterial: Polyester / CottonAge Group: AdultsDimensions: 32-35cm/42-45cm/52-55cmWarning: 3 years and up'),\n",
       " Document(metadata={'title': 'Europe Style Sofa Throw Blanket Cotton Thread Knitted Blanket With Tassel Geometry Bohemian Sofa Cover Bed Blanket Home Decor'}, page_content='Brand Name: POLLUELOOrigin: CN(Origin)Material: Polyester / CottonFeature: PortableFeature: WearablePattern Type: GeometricSeason: Spring/AutumnType: Thread Blanket/Towel BlanketGrade: Grade AModel Number: A01568Pattern: PRINTEDStyle: europeColor Fastness (Grade): 4Technics: KnittedShape: RectangleUse: PicnicUse: TravelUse: HomeUse: HOTELUse: AirplaneWeight: 300-3000gWash Style: Mechanical WashAge Group: AdultsPackage included: 1 x sofa throw blanket'),\n",
       " Document(metadata={'title': 'Inyahome New Art Velvet Yellow Blue Pink Solid Color Cushion Cover Pillow Cover Pillow Case Home Decorative Sofa Throw Decor'}, page_content='Origin: CN(Origin)Type: CusionFeature: MassageSet Type: NoUnpick and Wash: Removable and Washableis_customized: NoStyle: Japan StyleModel Number: 615860577068Technics: WovenShape: RectangleUse: SeatPattern Type: SolidFilling: ppcottonMaterial: Polyester / CottonAge Group: Adults'),\n",
       " Document(metadata={'title': 'Shaggy Throw Blanket Soft Long Plush Bed Cover Blanket Fluffy Faux Fur Bedspread Blankets for Beds Couch Sofa'}, page_content='Material: 100% PolyesterFeature: keep warmPattern Type: SolidSeason: WinterType: OtherGrade: QualityModel Number: Throw BlanketPattern: Plain DyedStyle: ModernSet Type: NoColor Fastness (Grade): 3-4Technics: WovenShape: RectangleUse: PicnicUse: TravelUse: HospitalUse: HomeUse: HOTELUse: AirplaneWeight: 500-1600gWash Style: Mechanical WashAge Group: AdultsFunction 1: Bedding BlanketFunction 2: Sofa Chair Couch BlanketFunction 3: Air Conditioning BlanketFunction 4: Throw BlanketFunction 5: Christmas New Year Gift For ChirldrenFunction 6: Bedspread Of Child BedSize 1: 75x115cm(approx.)Size 2: 125x160cm(approx.)Size 3: 160x195cm(approx.)'),\n",
       " Document(metadata={'title': 'Textile City Faux Cashmere Sofa Blanket Cover Nordic Style Knit Plaid Throw Tassels Bedspread Golden Blanket for Spring Summer'}, page_content='Origin: CN(Origin)Material: 100% AcrylicFeature: Anti-PillingPattern Type: PlaidSeason: Spring/AutumnType: Thread Blanket/Towel BlanketGrade: Grade AModel Number: NO2Pattern: Yarn DyedStyle: ModernSet Type: NoColor Fastness (Grade): 4Technics: KnittedShape: RectangleUse: PicnicUse: TravelUse: MilitaryUse: HospitalUse: HomeUse: HOTELUse: AirplaneWeight: 550gWash Style: Hand WashAge Group: Adultspattern: Geometric patterncolour: Turmeric, ash, beige, khaki, brick redDimensions and specifications: 127 * 152 + 20cm(50\"x60\")season: Autumn and winterFabric material: acrylic fibres'),\n",
       " Document(metadata={'title': 'Bedding Set Solid Color Luxury Bedding Kit Rayon Satin Duvet Cover Set Twin Queen King Size Bed Set 2pcs/3pcs/4pcs'}, page_content='Brand Name: FLOWERS AND CAKESMaterial: Rayonis_customized: NoSuitable Region: North AmericaType: Duvetcover&2pcs Pillowcase&1sheetStyle: SolidFabirc Construction: 120gsmOrigin: CN(Origin)Process Technique: QuiltingFabirc Style: TwillApplication Size: 1.0m (3.3 feet)Application Size: 1.2m (4 feet)Application Size: 1.35m (4.5 feet)Application Size: 1.5m (5 feet)Application Size: 1.8m (6 feet)Application Size: 2.0m (6.6 feet)Application Size: 2.2m (7 feet)Quantity: 4 pcsWeight: 1kg-1.6kgColor Fastness (Grade): National Standards'),\n",
       " Document(metadata={'title': 'Nordic Simple Bedding Set Adult Duvet Cover Sets Bedclothes Bed Linen Sheet Single Double Queen King size Qulit Covers 240/220'}, page_content='Origin: CN(Origin)Grade: Grade APattern: PRINTEDis_customized: NoStyle: ModernMaterial: 100% PolyesterTechnics: WovenUse: HomeThread Count: 400TCPattern Type: PLANTModel Number: YH0012/YH0049/YH0056/JB0060/0050009Weight: 0.9KG-1.5KGAge Group: For Kids and adult bedding sets (housse de couette)Fabric Count: 60Color: Green/Black/White/Grey/YellowMaterial: Soft Polyester (Not include comforter/quiltApplication Size: 1.5m (5 feet),1.8m (6 feet),2.0m (6.6 feet),2.2m (7 feet)Type: Pillowcases & Duvet Cover Sets (Without Comforter/Quilt)Size Chart: Single, Double, Queen, KingPillowcase size: 48 cm'),\n",
       " Document(metadata={'title': 'Nordic Simple Bedding Set Adult Duvet Cover Sets Bedclothes Bed Linen Sheet Single Double Queen King size Qulit Covers 240/220'}, page_content='(7 feet)Type: Pillowcases & Duvet Cover Sets (Without Comforter/Quilt)Size Chart: Single, Double, Queen, KingPillowcase size: 48 cm X 74 cm = 19 in X 29 inQuantity: 3/4Pcs Bedding Set / BedclothesSupport: Wholesale & DropshippingSeason: Spring/Summer/Autumn/WinterType1: Bed Linens / Flat Bed Sheet'),\n",
       " Document(metadata={'title': 'Soft Skin-friendly Flannel Duvet Cover Dual-use Winter Warm Quilt Cover for Adults Children Thick Comforter Cover'}, page_content='Brand Name: x-cultureOrigin: CN(Origin)Grade: Grade APattern: Plain Dyedis_customized: NoStyle: PlainMaterial: 100% PolyesterTechnics: WovenUse: HomeUse: HOTELThread Count: 200TCPattern Type: SolidModel Number: multifunctional duvet coverWeight: 1200-2100gAge Group: AdultsFabric Count: 40Duvet Cover Size(approx.): 150x200/180x220/200x230/220x240cmDuvet cover Color: two colors on both sidesPillowcase Color: The pillowcase is the same color on both sides.Pillowcase Size(approx.): 48x74cm'),\n",
       " Document(metadata={'title': 'Marble Pattern Printed Duvet Cover Set With Zipper Closure Bedding Sets &amp; Comforter Covet  Pillow'}, page_content='Brand Name: JoyajafagMaterial: Microfiber FabricFilling: Noneis_customized: YesSuitable Region: Eastern EuropeType: Duvetcover&2pcs PillowcaseStyle: 3D PrintFabirc Construction: 350gsmOrigin: CN(Origin)Process Technique: BasicFabirc Style: PlainApplication Size: 1.0m (3.3 feet)Application Size: 1.2m (4 feet)Application Size: 1.35m (4.5 feet)Application Size: 1.5m (5 feet)Application Size: 1.8m (6 feet)Application Size: 2.0m (6.6 feet)Application Size: 2.2m (7 feet)Application Size: 2.5m (8 feet)Application Size: 2.8m (9 feet)Quantity: 3 pcsWeight: 1KGColor Fastness (Grade): National Standards'),\n",
       " Document(metadata={'title': 'Bedding Comforter Cover Sets with 3D Seaside Print Kids Teens Duvet Covet with Ocean Theme Bedding Quilt Cover Zipper Closure'}, page_content='Brand Name: AbosbeetOrigin: CN(Origin)Pattern Type: PrintApplication Size: 1.0m (3.3 feet)Application Size: 1.2m (4 feet)Application Size: 1.35m (4.5 feet)Application Size: 1.5m (5 feet)Application Size: 1.8m (6 feet)Application Size: 2.0m (6.6 feet)Application Size: 2.2m (7 feet)Application Size: 2.5m (8 feet)Application Size: 2.8m (9 feet)GSM: 100gsmThread Count: 300TCMaterial: Microfiber FabricFabric Count: 30Grade: Grade AColor Fastness (Grade): National StandardsPattern: PRINTEDModel Number: 01389AStyle: ModernTechnics: Reactive PrintingUse: HomeQuantity: 3 pcsis_customized: NoWeight:'),\n",
       " Document(metadata={'title': 'Bedding Comforter Cover Sets with 3D Seaside Print Kids Teens Duvet Covet with Ocean Theme Bedding Quilt Cover Zipper Closure'}, page_content='(Grade): National StandardsPattern: PRINTEDModel Number: 01389AStyle: ModernTechnics: Reactive PrintingUse: HomeQuantity: 3 pcsis_customized: NoWeight: 1.5'),\n",
       " Document(metadata={'title': 'Cool boy baseball cap for kids cotton adjustable 3D embroidery bone kids caps funny face hip hop snapback hat for little boys girls'}, page_content='Feature: Sun protectionApplicable Season: Four SeasonsPattern Type: CartoonDepartment Name: ChildrenMaterial: CottonApplicable Scene: CasualGender: UnisexStyle: CasualStrap Type: AdjustableRelease Date: Spring 2021Hat Size: One SizeItem Type: Baseball Capscolor: black, whitesize: 48-52cmdelivery time: 7 to 30 days'),\n",
       " Document(metadata={'title': 'Solstice Home Textile Black Lattice Duvet Cover Pillowcase Bed Sheet Simple Boy Girls Bedding Sets Single Twin Double Cover Beds'}, page_content='Brand Name: SOLSTICEMaterial: 100% Polyesteris_customized: YesSuitable Region: Western EuropeType: Duvetcover&2pcs Pillowcase&1sheetStyle: GeometricFabirc Construction: 90gsmOrigin: CN(Origin)Process Technique: BasicFabirc Style: PlainApplication Size: 1.0m (3.3 feet)Application Size: 1.2m (4 feet)Application Size: 1.35m (4.5 feet)Application Size: 1.5m (5 feet)Application Size: 1.8m (6 feet)Application Size: 2.0m (6.6 feet)Application Size: 2.2m (7 feet)Quantity: OtherWeight: 1.5kgColor Fastness (Grade): 4'),\n",
       " Document(metadata={'title': 'White Rainbow Boys & Girls Baseball Hat with Adjustable Buckle(One Size Fits Most)'}, page_content='𝐄𝐘𝐄-𝐂𝐀𝐓𝐂𝐇𝐈𝐍𝐆 – The Awhale Girl’s Unicorn Baseball Hat stands out with a 3D design and graphics packed with vibrant colors and tons of personality. Your kid will not want to take it off! Add some magic to your child’s wardrobe with this adorable baseball cap! 𝐏𝐄𝐑𝐅𝐄𝐂𝐓 𝐅𝐈𝐓 – Made for all girl’s hair types, our hat contains 6 embroidered eyelets and a full back opening for those messy buns and ponytails. Designed to fit children ages 2-12, the adjustable buckle can be tweaked in seconds for toddlers or tweens!'),\n",
       " Document(metadata={'title': 'White Rainbow Boys & Girls Baseball Hat with Adjustable Buckle(One Size Fits Most)'}, page_content='eyelets and a full back opening for those messy buns and ponytails. Designed to fit children ages 2-12, the adjustable buckle can be tweaked in seconds for toddlers or tweens! 𝐇𝐈𝐆𝐇-𝐐𝐔𝐀𝐋𝐈𝐓𝐘 – Made with Premium cotton, our girl’s unicorn baseball hat stays stunning with machine-washable cotton twill and durable stitching that preserves the colors and personality of the hat. 𝐀𝐋𝐋-𝐃𝐀𝐘 𝐔𝐒𝐄 – Made with breathable material, our unicorn baseball hat is comfortable for outdoor activities like running, baseball, tennis, and golf but also perfect for casual wear at school, the park, or on a playdate! 𝐀𝐖𝐇𝐀𝐋𝐄'),\n",
       " Document(metadata={'title': 'White Rainbow Boys & Girls Baseball Hat with Adjustable Buckle(One Size Fits Most)'}, page_content='tennis, and golf but also perfect for casual wear at school, the park, or on a playdate! 𝐀𝐖𝐇𝐀𝐋𝐄 𝐁𝐑𝐀𝐍𝐃 – Welcome to AWHALE, where our designers are obsessed with combining High-Quality Materials and Chic Design to bring joy and laughter to boys and girls. Your child will love wearing our stylish outfits, and as everyone knows, there is nothing more adorable than a happy and fashionable child!'),\n",
       " Document(metadata={'title': 'Pink Unicorn Boys & Girls Baseball Hat with Adjustable Buckle (One Size Fits Most)'}, page_content='𝐄𝐘𝐄-𝐂𝐀𝐓𝐂𝐇𝐈𝐍𝐆 – The Awhale Girl’s Unicorn Baseball Hat stands out with a 3D design and graphics packed with a vibrant pink color and tons of personality. Your kid will not want to take it off! Add some magic to your child’s wardrobe with this adorable baseball cap! 𝐏𝐄𝐑𝐅𝐄𝐂𝐓 𝐅𝐈𝐓 – Made for all girl’s hair types, our hat contains 6 embroidered eyelets and a full back opening for those messy buns and ponytails. Designed to fit children ages 2-12, the adjustable buckle can be tweaked in seconds for toddlers or tweens!'),\n",
       " Document(metadata={'title': 'Pink Unicorn Boys & Girls Baseball Hat with Adjustable Buckle (One Size Fits Most)'}, page_content='eyelets and a full back opening for those messy buns and ponytails. Designed to fit children ages 2-12, the adjustable buckle can be tweaked in seconds for toddlers or tweens! 𝐇𝐈𝐆𝐇-𝐐𝐔𝐀𝐋𝐈𝐓𝐘 – Made with Premium cotton, our girl’s unicorn baseball hat stays stunning with machine-washable cotton twill and durable stitching that preserves the colors and personality of the hat. 𝐀𝐋𝐋-𝐃𝐀𝐘 𝐔𝐒𝐄 – Made with breathable material, our unicorn baseball hat is comfortable for outdoor activities like running, baseball, tennis, and golf but also perfect for casual wear at school, the park, or on a playdate! 𝐀𝐖𝐇𝐀𝐋𝐄'),\n",
       " Document(metadata={'title': 'Pink Unicorn Boys & Girls Baseball Hat with Adjustable Buckle (One Size Fits Most)'}, page_content='tennis, and golf but also perfect for casual wear at school, the park, or on a playdate! 𝐀𝐖𝐇𝐀𝐋𝐄 𝐁𝐑𝐀𝐍𝐃 – Welcome to AWHALE, where our designers are obsessed with combining High-Quality Materials and Chic Design to bring joy and laughter to boys and girls. Your child will love wearing our stylish outfits, and as everyone knows, there is nothing more adorable than a happy and fashionable child!'),\n",
       " Document(metadata={'title': 'Green Boys & Girls Baseball Hat with Adjustable Buckle'}, page_content=\"𝐅𝐔𝐍𝐂𝐓𝐈𝐎𝐍𝐀𝐋 & 𝐒𝐓𝐘𝐋𝐈𝐒𝐇 – Your child will look adorable wearing one of our no logo baseball caps and will receive much needed sun protection with each hat featuring a sleek reflective strip across the brim. Whether you're sending them off to school, at the park, or running errands around town, our Premium sun hats for kids are the perfect accessory 𝐏𝐄𝐑𝐅𝐄𝐂𝐓 𝐅𝐈𝐓 – Made for all girl’s hair types, our hat contains 6 embroidered eyelets and a full back opening for those messy buns and ponytails. Designed to fit children ages 4-12, the adjustable buckle can be tweaked in seconds for toddlers or\"),\n",
       " Document(metadata={'title': 'Green Boys & Girls Baseball Hat with Adjustable Buckle'}, page_content='6 embroidered eyelets and a full back opening for those messy buns and ponytails. Designed to fit children ages 4-12, the adjustable buckle can be tweaked in seconds for toddlers or tweens! 𝐇𝐈𝐆𝐇-𝐐𝐔𝐀𝐋𝐈𝐓𝐘 – Made with Premium cotton, our girl’s unicorn baseball hat stays stunning with machine-washable cotton twill and durable stitching that preserves the colors and personality of the hat. 𝐀𝐋𝐋-𝐃𝐀𝐘 𝐔𝐒𝐄 – Made with breathable material, our unicorn baseball hat is comfortable for outdoor activities like running, baseball, tennis, and golf but also perfect for casual wear at school, the park, or on a playdate! 𝐀𝐖𝐇𝐀𝐋𝐄'),\n",
       " Document(metadata={'title': 'Green Boys & Girls Baseball Hat with Adjustable Buckle'}, page_content='tennis, and golf but also perfect for casual wear at school, the park, or on a playdate! 𝐀𝐖𝐇𝐀𝐋𝐄 𝐁𝐑𝐀𝐍𝐃 – Welcome to AWHALE, where our designers are obsessed with combining High-Quality Materials and Chic Design to bring joy and laughter to boys and girls. Your child will love wearing our stylish outfits, and as everyone knows, there is nothing more adorable than a happy and fashionable child!'),\n",
       " Document(metadata={'title': 'Metallic Navy Blue Boys & Girls Baseball Hat with Adjustable Buckle'}, page_content='𝐅𝐔𝐍𝐂𝐓𝐈𝐎𝐍𝐀𝐋 & 𝐒𝐓𝐘𝐋𝐈𝐒𝐇 – Your child will look adorable wearing one of our no logo Navy baseball caps and will receive much needed sun protection with each hat featuring a sleek reflective strip across the brim. Whether you\\'re sending them off to school, at the park, or running errands around town, our Premium sun hats for kids is the perfect accessory 𝐏𝐄𝐑𝐅𝐄𝐂𝐓 𝐅𝐈𝐓 - As your child grows, our Navy youth baseball hat will \"grow\" with them; That\\'s right, these hats won\\'t become a hand me down after a few months; The buckle in the back makes adjusting the size to fit all boys and girls quick and'),\n",
       " Document(metadata={'title': 'Metallic Navy Blue Boys & Girls Baseball Hat with Adjustable Buckle'}, page_content=\"with them; That's right, these hats won't become a hand me down after a few months; The buckle in the back makes adjusting the size to fit all boys and girls quick and easy 𝐇𝐈𝐆𝐇-𝐐𝐔𝐀𝐋𝐈𝐓𝐘 - Made from breathable cotton and high-quality stitching for long-lasting, all-day comfort. When dirty from daily use, simply hand wash and air dry 𝐄𝐘𝐄-𝐂𝐀𝐓𝐂𝐇𝐈𝐍𝐆 - The Navy Blue and Light Pink kids’ baseball cap comes in (2) sizes to fit boys and girls ages 2-6 and 7-12; We also carry the following 3D graphic hats: Black Light Bulb, Ocean Blue Rocket, Pink Unicorn, and White Rainbow in sizes for children ages\"),\n",
       " Document(metadata={'title': 'Metallic Navy Blue Boys & Girls Baseball Hat with Adjustable Buckle'}, page_content='and 7-12; We also carry the following 3D graphic hats: Black Light Bulb, Ocean Blue Rocket, Pink Unicorn, and White Rainbow in sizes for children ages 2-12'),\n",
       " Document(metadata={'title': 'Metallic Light Pink Boys & Girls Baseball Hat with Adjustable Buckle'}, page_content='𝐅𝐔𝐍𝐂𝐓𝐈𝐎𝐍𝐀𝐋 & 𝐒𝐓𝐘𝐋𝐈𝐒𝐇 – Your child will look adorable wearing one of our no logo Light Pink baseball caps and will receive much needed sun protection with each hat featuring a sleek reflective strip across the brim. Whether you\\'re sending them off to school, at the park, or running errands around town, our Premium sun hats for kids are the perfect accessory 𝐏𝐄𝐑𝐅𝐄𝐂𝐓 𝐅𝐈𝐓 - As your child grows, our Light Pink youth baseball hat will \"grow\" with them; That\\'s right, these hats won\\'t become a hand me down after a few months; The buckle in the back makes adjusting the size to fit all girls quick and'),\n",
       " Document(metadata={'title': 'Metallic Light Pink Boys & Girls Baseball Hat with Adjustable Buckle'}, page_content='will \"grow\" with them; That\\'s right, these hats won\\'t become a hand me down after a few months; The buckle in the back makes adjusting the size to fit all girls quick and easy 𝐇𝐈𝐆𝐇-𝐐𝐔𝐀𝐋𝐈𝐓𝐘 - Made from breathable cotton and high-quality stitching for long-lasting, all-day comfort. When dirty from daily use, simply hand wash and air dry 𝐄𝐘𝐄-𝐂𝐀𝐓𝐂𝐇𝐈𝐍𝐆 - The Navy Blue and Light Pink kids’ baseball cap comes in (2) sizes to fit boys and girls ages 2-6 and 7-12; We also carry the following 3D graphic hats: Black Light Bulb, Ocean Blue Rocket, Pink Unicorn, and White Rainbow in sizes for'),\n",
       " Document(metadata={'title': 'Metallic Light Pink Boys & Girls Baseball Hat with Adjustable Buckle'}, page_content='ages 2-6 and 7-12; We also carry the following 3D graphic hats: Black Light Bulb, Ocean Blue Rocket, Pink Unicorn, and White Rainbow in sizes for children ages 2-12'),\n",
       " Document(metadata={'title': 'Denim Apron with 5 Pockets | Multipurpose Canvas Apron for BBQ, Gardening, Painting, Carpentry'}, page_content='✔ Premium Quality For Lasting Comfort: Say goodbye to flimsy and uncomfortable aprons. Made of a durable canvas denim, this apron is 100% cotton. It offers a soft, lightweight and breathable fabric that won’t be stifling in the summer heat while you grill, or cause discomfort while you cook, garden, or paint 𝐏𝐑𝐀𝐂𝐓𝐈𝐂𝐀𝐋 𝐃𝐄𝐒𝐈𝐆𝐍 – Besides looking sharp with a wrinkle-resistant design, our denim apron features 5 front pockets to keep your phone, tools, and grilling equipment snug while you work on your craft. Into gardening, painting, or auto repair? Keep everything neat and organized with plenty of room for your pens, pocketknives, nails, screws, paintbrushes, and everything in between ✔ One Size Fits Everyone - Size:'),\n",
       " Document(metadata={'title': 'Denim Apron with 5 Pockets | Multipurpose Canvas Apron for BBQ, Gardening, Painting, Carpentry'}, page_content='auto repair? Keep everything neat and organized with plenty of room for your pens, pocketknives, nails, screws, paintbrushes, and everything in between ✔ One Size Fits Everyone - Size: 31.9\"L x 23.6\"W: Sharing a kitchen with a spouse or roommate? No worries, our apron is designed to fit everyone. Whether you’re an XS or a XXL, a teen or an adult, you’ll get the perfect, customized fit every time. Thanks to our extra-long criss-cross straps, men and women of all sizes and body types can comfortably and confidently enjoy this apron. And unlike other aprons, you won’t struggle to get this one over your head ✔ Unlimited Uses In and Around The Home: Although it’s incredibly useful in the kitchen, you’ll find yourself reaching for this apron over and over again. You’ll wonder how you ever lived without it! Ideas for use include painting, gardening, restaurant work,'),\n",
       " Document(metadata={'title': 'Denim Apron with 5 Pockets | Multipurpose Canvas Apron for BBQ, Gardening, Painting, Carpentry'}, page_content='useful in the kitchen, you’ll find yourself reaching for this apron over and over again. You’ll wonder how you ever lived without it! Ideas for use include painting, gardening, restaurant work, waiters, waitresses, cooking, grilling, BBQ, tailgating, baking, carpentry, bartending, and more! Protect your clothing with this versatile bib apron in 2 color choices ✔ Easy to Wash for Years of Use: Caring for your apron shouldn’t be a chore. Simply throw it into the washing machine on cold and lay it flat to dry. The solid stitching ensures seams won’t come loose in the wash, so no frayed edges'),\n",
       " Document(metadata={'title': 'Denim Apron with 3 Pockets | Multipurpose Canvas Apron for BBQ, Gardening, Painting, Carpentry'}, page_content='𝐋𝐈𝐆𝐇𝐓𝐖𝐄𝐈𝐆𝐇𝐓 & 𝐂𝐎𝐌𝐅𝐎𝐑𝐓𝐁𝐀𝐋𝐄 – Made with durable canvas denim, our 100% cotton chefs apron offers a soft, lightweight, and breathable fabric that can be comfortably worn in the summer heat while you are grilling, gardening, painting and much more! 𝐏𝐑𝐀𝐂𝐓𝐈𝐂𝐀𝐋 𝐃𝐄𝐒𝐈𝐆𝐍 – Besides looking sharp with a wrinkle-resistant design, our denim apron features three front pockets to keep your phone, tools, and grilling equipment snug while you work on your craft. Into gardening,'),\n",
       " Document(metadata={'title': 'Denim Apron with 3 Pockets | Multipurpose Canvas Apron for BBQ, Gardening, Painting, Carpentry'}, page_content='Besides looking sharp with a wrinkle-resistant design, our denim apron features three front pockets to keep your phone, tools, and grilling equipment snug while you work on your craft. Into gardening, painting, or auto repair? Keep everything neat and organized with plenty of room for your pens, pocketknives, nails, screws, paintbrushes, and everything in between. 𝐕𝐄𝐑𝐒𝐀𝐓𝐈𝐋𝐄 𝐔𝐒𝐄 – While an incredibly useful BBQ apron for grilling with family or tailgating, you will find yourself reaching for this apron over and over! Protect your clothing with this versatile denim apron whether you are into painting, gardening, baking, carpentry, bartending and more! 𝐎𝐍𝐄 𝐒𝐈𝐙𝐄'),\n",
       " Document(metadata={'title': 'Denim Apron with 3 Pockets | Multipurpose Canvas Apron for BBQ, Gardening, Painting, Carpentry'}, page_content='whether you are into painting, gardening, baking, carpentry, bartending and more! 𝐎𝐍𝐄 𝐒𝐈𝐙𝐄 𝐅𝐈𝐓𝐒 𝐀𝐋𝐋 – Never worry about your apron pulling on your neck with our extra-long crisscross straps that rest softly on your shoulders and allow you to adjust to your liking. Men and Women of all sizes can comfortably and confidently enjoy this apron with a customized fit every time! Size: 31.9\"L x 23.6\"W 𝐄𝐀𝐒𝐘 𝐂𝐀𝐑𝐄 – Machine washable and extremely durable, the solid stitching ensures seams will not come loose in the wash and no frayed edges. Simply throw it in the washing machine on cold, lay it flat to dry and enjoy years of use.'),\n",
       " Document(metadata={'title': 'Camel Brown Boys & Girls Rib Knit Beanie Hat'}, page_content='𝐂𝐎𝐌𝐅𝐎𝐑𝐓𝐀𝐁𝐋𝐄 & 𝐖𝐀𝐑𝐌 – Our Awhale Brown Beanie Winter hat provides men and women a soft, lightweight cap to ride out the winter in style. The ultra-soft material keeps the head cozy in the winter with enough breathability for warmer days. 𝐎𝐍𝐄 𝐒𝐈𝐙𝐄 𝐅𝐈𝐓𝐒 𝐌𝐎𝐒𝐓 – With stretchy material, our brown winter beanie is flexible to fit most head circumferences and can be adjusted to your liking! 𝐅𝐎𝐑 𝐀𝐍𝐘'),\n",
       " Document(metadata={'title': 'Camel Brown Boys & Girls Rib Knit Beanie Hat'}, page_content='our brown winter beanie is flexible to fit most head circumferences and can be adjusted to your liking! 𝐅𝐎𝐑 𝐀𝐍𝐘 𝐎𝐂𝐂𝐀𝐒𝐈𝐎𝐍 – Our winter beanie hat with no logo is perfect for any casual outfit and suitable for any outdoor activities such as skiing, running, hiking, skating, walking, camping and so on. Do not let the cold stop you from enjoying yourself in the Autumn and Winter! 𝐈𝐃𝐄𝐀𝐋 𝐆𝐈𝐅𝐓 – Boost your style with our ultra-comfortable unisex beanie hat this holiday season! Perfect as a birthday gift, Thanksgiving gift, Christmas gift and New Year’s Gift! 𝐀𝐖𝐇𝐀𝐋𝐄'),\n",
       " Document(metadata={'title': 'Camel Brown Boys & Girls Rib Knit Beanie Hat'}, page_content='hat this holiday season! Perfect as a birthday gift, Thanksgiving gift, Christmas gift and New Year’s Gift! 𝐀𝐖𝐇𝐀𝐋𝐄 𝐁𝐑𝐀𝐍𝐃 – Welcome to AWHALE, where our designers are obsessed with combining High-Quality Materials and Chic Design to bring joy and laughter to Girls and Boys. Your child will love wearing our stylish outfits, and as everyone knows, there is nothing more adorable than a happy and fashionable child!')]"
      ]
     },
     "execution_count": 47,
     "metadata": {},
     "output_type": "execute_result"
    }
   ],
   "source": [
    "pickle.load(open(\"/Users/isaac/programming/articulateai/AgentOrg/examples/shopify/chunked_documents.pkl\", 'rb'))"
   ]
  },
  {
   "cell_type": "code",
   "execution_count": 11,
   "metadata": {},
   "outputs": [
    {
     "data": {
      "text/plain": [
       "[Document(metadata={'title': 'mmermind fleece blankets and throws Adult Thick Warm winter Blankets Home Super Soft duvet luxury solid Blankets On twin Bedding'}, page_content='Brand Name: mmermindOrigin: CN(Origin)Material: 100% PolyesterFeature: Anti-PillingPattern Type: SolidSeason: WinterType: Coral Fleece FabricGrade: Grade AModel Number: SG52Pattern: FlockedStyle: ModernSet Type: NoColor Fastness (Grade): 4Technics: NonwovenShape: SquareUse: HospitalUse: HomeUse: HOTELWeight: 1000gWash Style: Mechanical WashAge Group: Adultsfleece blankets: fleece blanketswinter Blankets: winter Blankets'),\n",
       " Document(metadata={'title': 'Winter Flannel Blanket Solid Color Plaid Coral Blanket Fleece Bedspread For Bed Sofa Thicken Plush Blanket Thin Quilt Home Decor'}, page_content='Origin: CN(Origin)Material: Microfiber FabricFeature: HeatedFeature: Anti-PillingFeature: PortablePattern Type: SolidSeason: WinterType: Flannel FabricGrade: Grade AModel Number: MT005Pattern: Plain DyedStyle: ModernSet Type: NoColor Fastness (Grade): 3Technics: WovenShape: RectangleUse: PicnicUse: TravelUse: MilitaryUse: HospitalUse: HomeUse: HOTELUse: AirplaneWeight: 0.59-1.45kgWash Style: Mechanical WashAge Group: Adultshome blanket: bed cover blanket, Bedspreads BlanketsColor: Pink, Yellow, Cream, Grey-Blue, GreyMaterial: Flannel fabric'),\n",
       " Document(metadata={'title': 'Nordic Knitted Blanket Soild Color Sofa Throw Blanket With Tassels Travel TV Nap Blankets Air Condition Blankets Bed Decorative'}, page_content='Origin: CN(Origin)Material: Polyester / AcrylicFeature: HeatedFeature: PortablePattern Type: GeometricSeason: Spring/AutumnType: Thread Blanket/Towel BlanketGrade: Grade AModel Number: MT007Pattern: Yarn DyedStyle: PastoralSet Type: NoColor Fastness (Grade): 4Technics: KnittingShape: RectangleUse: PicnicUse: TravelUse: MilitaryUse: HospitalUse: HomeUse: HOTELUse: AirplaneWeight: 0.525KgWash Style: Hand WashAge Group: Adultshome blanket: bed cover blanket, Bedspreads BlanketsColor: Yellow and GreyMaterial: AcrylicType: Knitted blanket, Woolen blanketProduct Care: Hand wash at room temperatureSeason: Winter, Spring and AutumnPicture Type: Yellow and Grey Plaid, Geometry, Soild ColorAge Group: AdultsBlanket: blanket bedspread, home blanket with tassels'),\n",
       " Document(metadata={'title': 'Flower Plush Throw Pillow Soft Plant Cartoon Chair Cushion Living Bedroom Home Decorative Pillows Sofa Cushions Birthday Gifts'}, page_content='Origin: CN(Origin)Type: Seat Cushion/Back CushionFeature: MemorySet Type: NoUnpick and Wash: Not Removable and WashablePattern: PRINTEDis_customized: NoStyle: MEDITERRANEANModel Number: P161Technics: KnittedShape: RoundPattern Type: cartoonFilling: CottonMaterial: Polyester / CottonAge Group: AdultsDimensions: 32-35cm/42-45cm/52-55cmWarning: 3 years and up'),\n",
       " Document(metadata={'title': 'Europe Style Sofa Throw Blanket Cotton Thread Knitted Blanket With Tassel Geometry Bohemian Sofa Cover Bed Blanket Home Decor'}, page_content='Brand Name: POLLUELOOrigin: CN(Origin)Material: Polyester / CottonFeature: PortableFeature: WearablePattern Type: GeometricSeason: Spring/AutumnType: Thread Blanket/Towel BlanketGrade: Grade AModel Number: A01568Pattern: PRINTEDStyle: europeColor Fastness (Grade): 4Technics: KnittedShape: RectangleUse: PicnicUse: TravelUse: HomeUse: HOTELUse: AirplaneWeight: 300-3000gWash Style: Mechanical WashAge Group: AdultsPackage included: 1 x sofa throw blanket'),\n",
       " Document(metadata={'title': 'Inyahome New Art Velvet Yellow Blue Pink Solid Color Cushion Cover Pillow Cover Pillow Case Home Decorative Sofa Throw Decor'}, page_content='Origin: CN(Origin)Type: CusionFeature: MassageSet Type: NoUnpick and Wash: Removable and Washableis_customized: NoStyle: Japan StyleModel Number: 615860577068Technics: WovenShape: RectangleUse: SeatPattern Type: SolidFilling: ppcottonMaterial: Polyester / CottonAge Group: Adults'),\n",
       " Document(metadata={'title': 'Shaggy Throw Blanket Soft Long Plush Bed Cover Blanket Fluffy Faux Fur Bedspread Blankets for Beds Couch Sofa'}, page_content='Material: 100% PolyesterFeature: keep warmPattern Type: SolidSeason: WinterType: OtherGrade: QualityModel Number: Throw BlanketPattern: Plain DyedStyle: ModernSet Type: NoColor Fastness (Grade): 3-4Technics: WovenShape: RectangleUse: PicnicUse: TravelUse: HospitalUse: HomeUse: HOTELUse: AirplaneWeight: 500-1600gWash Style: Mechanical WashAge Group: AdultsFunction 1: Bedding BlanketFunction 2: Sofa Chair Couch BlanketFunction 3: Air Conditioning BlanketFunction 4: Throw BlanketFunction 5: Christmas New Year Gift For ChirldrenFunction 6: Bedspread Of Child BedSize 1: 75x115cm(approx.)Size 2: 125x160cm(approx.)Size 3: 160x195cm(approx.)'),\n",
       " Document(metadata={'title': 'Textile City Faux Cashmere Sofa Blanket Cover Nordic Style Knit Plaid Throw Tassels Bedspread Golden Blanket for Spring Summer'}, page_content='Origin: CN(Origin)Material: 100% AcrylicFeature: Anti-PillingPattern Type: PlaidSeason: Spring/AutumnType: Thread Blanket/Towel BlanketGrade: Grade AModel Number: NO2Pattern: Yarn DyedStyle: ModernSet Type: NoColor Fastness (Grade): 4Technics: KnittedShape: RectangleUse: PicnicUse: TravelUse: MilitaryUse: HospitalUse: HomeUse: HOTELUse: AirplaneWeight: 550gWash Style: Hand WashAge Group: Adultspattern: Geometric patterncolour: Turmeric, ash, beige, khaki, brick redDimensions and specifications: 127 * 152 + 20cm(50\"x60\")season: Autumn and winterFabric material: acrylic fibres'),\n",
       " Document(metadata={'title': 'Bedding Set Solid Color Luxury Bedding Kit Rayon Satin Duvet Cover Set Twin Queen King Size Bed Set 2pcs/3pcs/4pcs'}, page_content='Brand Name: FLOWERS AND CAKESMaterial: Rayonis_customized: NoSuitable Region: North AmericaType: Duvetcover&2pcs Pillowcase&1sheetStyle: SolidFabirc Construction: 120gsmOrigin: CN(Origin)Process Technique: QuiltingFabirc Style: TwillApplication Size: 1.0m (3.3 feet)Application Size: 1.2m (4 feet)Application Size: 1.35m (4.5 feet)Application Size: 1.5m (5 feet)Application Size: 1.8m (6 feet)Application Size: 2.0m (6.6 feet)Application Size: 2.2m (7 feet)Quantity: 4 pcsWeight: 1kg-1.6kgColor Fastness (Grade): National Standards'),\n",
       " Document(metadata={'title': 'Nordic Simple Bedding Set Adult Duvet Cover Sets Bedclothes Bed Linen Sheet Single Double Queen King size Qulit Covers 240/220'}, page_content='Origin: CN(Origin)Grade: Grade APattern: PRINTEDis_customized: NoStyle: ModernMaterial: 100% PolyesterTechnics: WovenUse: HomeThread Count: 400TCPattern Type: PLANTModel Number: YH0012/YH0049/YH0056/JB0060/0050009Weight: 0.9KG-1.5KGAge Group: For Kids and adult bedding sets (housse de couette)Fabric Count: 60Color: Green/Black/White/Grey/YellowMaterial: Soft Polyester (Not include comforter/quiltApplication Size: 1.5m (5 feet),1.8m (6 feet),2.0m (6.6 feet),2.2m (7 feet)Type: Pillowcases & Duvet Cover Sets (Without Comforter/Quilt)Size Chart: Single, Double, Queen, KingPillowcase size: 48 cm X 74 cm = 19 in X 29 inQuantity: 3/4Pcs Bedding Set / BedclothesSupport: Wholesale & DropshippingSeason: Spring/Summer/Autumn/WinterType1: Bed Linens / Flat Bed Sheet'),\n",
       " Document(metadata={'title': 'Soft Skin-friendly Flannel Duvet Cover Dual-use Winter Warm Quilt Cover for Adults Children Thick Comforter Cover'}, page_content='Brand Name: x-cultureOrigin: CN(Origin)Grade: Grade APattern: Plain Dyedis_customized: NoStyle: PlainMaterial: 100% PolyesterTechnics: WovenUse: HomeUse: HOTELThread Count: 200TCPattern Type: SolidModel Number: multifunctional duvet coverWeight: 1200-2100gAge Group: AdultsFabric Count: 40Duvet Cover Size(approx.): 150x200/180x220/200x230/220x240cmDuvet cover Color: two colors on both sidesPillowcase Color: The pillowcase is the same color on both sides.Pillowcase Size(approx.): 48x74cm'),\n",
       " Document(metadata={'title': 'Marble Pattern Printed Duvet Cover Set With Zipper Closure Bedding Sets &amp; Comforter Covet  Pillow'}, page_content='Brand Name: JoyajafagMaterial: Microfiber FabricFilling: Noneis_customized: YesSuitable Region: Eastern EuropeType: Duvetcover&2pcs PillowcaseStyle: 3D PrintFabirc Construction: 350gsmOrigin: CN(Origin)Process Technique: BasicFabirc Style: PlainApplication Size: 1.0m (3.3 feet)Application Size: 1.2m (4 feet)Application Size: 1.35m (4.5 feet)Application Size: 1.5m (5 feet)Application Size: 1.8m (6 feet)Application Size: 2.0m (6.6 feet)Application Size: 2.2m (7 feet)Application Size: 2.5m (8 feet)Application Size: 2.8m (9 feet)Quantity: 3 pcsWeight: 1KGColor Fastness (Grade): National Standards'),\n",
       " Document(metadata={'title': 'Bedding Comforter Cover Sets with 3D Seaside Print Kids Teens Duvet Covet with Ocean Theme Bedding Quilt Cover Zipper Closure'}, page_content='Brand Name: AbosbeetOrigin: CN(Origin)Pattern Type: PrintApplication Size: 1.0m (3.3 feet)Application Size: 1.2m (4 feet)Application Size: 1.35m (4.5 feet)Application Size: 1.5m (5 feet)Application Size: 1.8m (6 feet)Application Size: 2.0m (6.6 feet)Application Size: 2.2m (7 feet)Application Size: 2.5m (8 feet)Application Size: 2.8m (9 feet)GSM: 100gsmThread Count: 300TCMaterial: Microfiber FabricFabric Count: 30Grade: Grade AColor Fastness (Grade): National StandardsPattern: PRINTEDModel Number: 01389AStyle: ModernTechnics: Reactive PrintingUse: HomeQuantity: 3 pcsis_customized: NoWeight: 1.5'),\n",
       " Document(metadata={'title': 'Cool boy baseball cap for kids cotton adjustable 3D embroidery bone kids caps funny face hip hop snapback hat for little boys girls'}, page_content='Feature: Sun protectionApplicable Season: Four SeasonsPattern Type: CartoonDepartment Name: ChildrenMaterial: CottonApplicable Scene: CasualGender: UnisexStyle: CasualStrap Type: AdjustableRelease Date: Spring 2021Hat Size: One SizeItem Type: Baseball Capscolor: black, whitesize: 48-52cmdelivery time: 7 to 30 days'),\n",
       " Document(metadata={'title': 'Solstice Home Textile Black Lattice Duvet Cover Pillowcase Bed Sheet Simple Boy Girls Bedding Sets Single Twin Double Cover Beds'}, page_content='Brand Name: SOLSTICEMaterial: 100% Polyesteris_customized: YesSuitable Region: Western EuropeType: Duvetcover&2pcs Pillowcase&1sheetStyle: GeometricFabirc Construction: 90gsmOrigin: CN(Origin)Process Technique: BasicFabirc Style: PlainApplication Size: 1.0m (3.3 feet)Application Size: 1.2m (4 feet)Application Size: 1.35m (4.5 feet)Application Size: 1.5m (5 feet)Application Size: 1.8m (6 feet)Application Size: 2.0m (6.6 feet)Application Size: 2.2m (7 feet)Quantity: OtherWeight: 1.5kgColor Fastness (Grade): 4'),\n",
       " Document(metadata={'title': 'White Rainbow Boys & Girls Baseball Hat with Adjustable Buckle(One Size Fits Most)'}, page_content='𝐄𝐘𝐄-𝐂𝐀𝐓𝐂𝐇𝐈𝐍𝐆 – The Awhale Girl’s Unicorn Baseball Hat stands out with a 3D design and graphics packed with vibrant colors and tons of personality. Your kid will not want to take it off! Add some magic to your child’s wardrobe with this adorable baseball cap! 𝐏𝐄𝐑𝐅𝐄𝐂𝐓 𝐅𝐈𝐓 – Made for all girl’s hair types, our hat contains 6 embroidered eyelets and a full back opening for those messy buns and ponytails. Designed to fit children ages 2-12, the adjustable buckle can be tweaked in seconds for toddlers or tweens! 𝐇𝐈𝐆𝐇-𝐐𝐔𝐀𝐋𝐈𝐓𝐘 – Made with Premium cotton, our girl’s unicorn baseball hat stays stunning with machine-washable cotton twill and durable stitching that preserves the colors and personality of the hat. 𝐀𝐋𝐋-𝐃𝐀𝐘 𝐔𝐒𝐄 – Made with breathable material, our unicorn baseball hat is comfortable for outdoor activities like running, baseball, tennis, and golf but also perfect for casual wear at school, the park, or on a playdate! 𝐀𝐖𝐇𝐀𝐋𝐄 𝐁𝐑𝐀𝐍𝐃 – Welcome to AWHALE, where our designers are obsessed with combining High-Quality Materials and Chic Design to bring joy and laughter to boys and girls. Your child will love wearing our stylish outfits, and as everyone knows, there is nothing more adorable than a happy and fashionable child!'),\n",
       " Document(metadata={'title': 'Pink Unicorn Boys & Girls Baseball Hat with Adjustable Buckle (One Size Fits Most)'}, page_content='𝐄𝐘𝐄-𝐂𝐀𝐓𝐂𝐇𝐈𝐍𝐆 – The Awhale Girl’s Unicorn Baseball Hat stands out with a 3D design and graphics packed with a vibrant pink color and tons of personality. Your kid will not want to take it off! Add some magic to your child’s wardrobe with this adorable baseball cap! 𝐏𝐄𝐑𝐅𝐄𝐂𝐓 𝐅𝐈𝐓 – Made for all girl’s hair types, our hat contains 6 embroidered eyelets and a full back opening for those messy buns and ponytails. Designed to fit children ages 2-12, the adjustable buckle can be tweaked in seconds for toddlers or tweens! 𝐇𝐈𝐆𝐇-𝐐𝐔𝐀𝐋𝐈𝐓𝐘 – Made with Premium cotton, our girl’s unicorn baseball hat stays stunning with machine-washable cotton twill and durable stitching that preserves the colors and personality of the hat. 𝐀𝐋𝐋-𝐃𝐀𝐘 𝐔𝐒𝐄 – Made with breathable material, our unicorn baseball hat is comfortable for outdoor activities like running, baseball, tennis, and golf but also perfect for casual wear at school, the park, or on a playdate! 𝐀𝐖𝐇𝐀𝐋𝐄 𝐁𝐑𝐀𝐍𝐃 – Welcome to AWHALE, where our designers are obsessed with combining High-Quality Materials and Chic Design to bring joy and laughter to boys and girls. Your child will love wearing our stylish outfits, and as everyone knows, there is nothing more adorable than a happy and fashionable child!'),\n",
       " Document(metadata={'title': 'Green Boys & Girls Baseball Hat with Adjustable Buckle'}, page_content=\"𝐅𝐔𝐍𝐂𝐓𝐈𝐎𝐍𝐀𝐋 & 𝐒𝐓𝐘𝐋𝐈𝐒𝐇 – Your child will look adorable wearing one of our no logo baseball caps and will receive much needed sun protection with each hat featuring a sleek reflective strip across the brim. Whether you're sending them off to school, at the park, or running errands around town, our Premium sun hats for kids are the perfect accessory 𝐏𝐄𝐑𝐅𝐄𝐂𝐓 𝐅𝐈𝐓 – Made for all girl’s hair types, our hat contains 6 embroidered eyelets and a full back opening for those messy buns and ponytails. Designed to fit children ages 4-12, the adjustable buckle can be tweaked in seconds for toddlers or tweens! 𝐇𝐈𝐆𝐇-𝐐𝐔𝐀𝐋𝐈𝐓𝐘 – Made with Premium cotton, our girl’s unicorn baseball hat stays stunning with machine-washable cotton twill and durable stitching that preserves the colors and personality of the hat. 𝐀𝐋𝐋-𝐃𝐀𝐘 𝐔𝐒𝐄 – Made with breathable material, our unicorn baseball hat is comfortable for outdoor activities like running, baseball, tennis, and golf but also perfect for casual wear at school, the park, or on a playdate! 𝐀𝐖𝐇𝐀𝐋𝐄 𝐁𝐑𝐀𝐍𝐃 – Welcome to AWHALE, where our designers are obsessed with combining High-Quality Materials and Chic Design to bring joy and laughter to boys and girls. Your child will love wearing our stylish outfits, and as everyone knows, there is nothing more adorable than a happy and fashionable child!\"),\n",
       " Document(metadata={'title': 'Metallic Navy Blue Boys & Girls Baseball Hat with Adjustable Buckle'}, page_content='𝐅𝐔𝐍𝐂𝐓𝐈𝐎𝐍𝐀𝐋 & 𝐒𝐓𝐘𝐋𝐈𝐒𝐇 – Your child will look adorable wearing one of our no logo Navy baseball caps and will receive much needed sun protection with each hat featuring a sleek reflective strip across the brim. Whether you\\'re sending them off to school, at the park, or running errands around town, our Premium sun hats for kids is the perfect accessory 𝐏𝐄𝐑𝐅𝐄𝐂𝐓 𝐅𝐈𝐓 - As your child grows, our Navy youth baseball hat will \"grow\" with them; That\\'s right, these hats won\\'t become a hand me down after a few months; The buckle in the back makes adjusting the size to fit all boys and girls quick and easy 𝐇𝐈𝐆𝐇-𝐐𝐔𝐀𝐋𝐈𝐓𝐘 - Made from breathable cotton and high-quality stitching for long-lasting, all-day comfort. When dirty from daily use, simply hand wash and air dry 𝐄𝐘𝐄-𝐂𝐀𝐓𝐂𝐇𝐈𝐍𝐆 - The Navy Blue and Light Pink kids’ baseball cap comes in (2) sizes to fit boys and girls ages 2-6 and 7-12; We also carry the following 3D graphic hats: Black Light Bulb, Ocean Blue Rocket, Pink Unicorn, and White Rainbow in sizes for children ages 2-12'),\n",
       " Document(metadata={'title': 'Metallic Light Pink Boys & Girls Baseball Hat with Adjustable Buckle'}, page_content='𝐅𝐔𝐍𝐂𝐓𝐈𝐎𝐍𝐀𝐋 & 𝐒𝐓𝐘𝐋𝐈𝐒𝐇 – Your child will look adorable wearing one of our no logo Light Pink baseball caps and will receive much needed sun protection with each hat featuring a sleek reflective strip across the brim. Whether you\\'re sending them off to school, at the park, or running errands around town, our Premium sun hats for kids are the perfect accessory 𝐏𝐄𝐑𝐅𝐄𝐂𝐓 𝐅𝐈𝐓 - As your child grows, our Light Pink youth baseball hat will \"grow\" with them; That\\'s right, these hats won\\'t become a hand me down after a few months; The buckle in the back makes adjusting the size to fit all girls quick and easy 𝐇𝐈𝐆𝐇-𝐐𝐔𝐀𝐋𝐈𝐓𝐘 - Made from breathable cotton and high-quality stitching for long-lasting, all-day comfort. When dirty from daily use, simply hand wash and air dry 𝐄𝐘𝐄-𝐂𝐀𝐓𝐂𝐇𝐈𝐍𝐆 - The Navy Blue and Light Pink kids’ baseball cap comes in (2) sizes to fit boys and girls ages 2-6 and 7-12; We also carry the following 3D graphic hats: Black Light Bulb, Ocean Blue Rocket, Pink Unicorn, and White Rainbow in sizes for children ages 2-12'),\n",
       " Document(metadata={'title': 'Denim Apron with 5 Pockets | Multipurpose Canvas Apron for BBQ, Gardening, Painting, Carpentry'}, page_content='✔ Premium Quality For Lasting Comfort: Say goodbye to flimsy and uncomfortable aprons. Made of a durable canvas denim, this apron is 100% cotton. It offers a soft, lightweight and breathable fabric that won’t be stifling in the summer heat while you grill, or cause discomfort while you cook, garden, or paint 𝐏𝐑𝐀𝐂𝐓𝐈𝐂𝐀𝐋 𝐃𝐄𝐒𝐈𝐆𝐍 – Besides looking sharp with a wrinkle-resistant design, our denim apron features 5 front pockets to keep your phone, tools, and grilling equipment snug while you work on your craft. Into gardening, painting, or auto repair? Keep everything neat and organized with plenty of room for your pens, pocketknives, nails, screws, paintbrushes, and everything in between ✔ One Size Fits Everyone - Size: 31.9\"L x 23.6\"W: Sharing a kitchen with a spouse or roommate? No worries, our apron is designed to fit everyone. Whether you’re an XS or a XXL, a teen or an adult, you’ll get the perfect, customized fit every time. Thanks to our extra-long criss-cross straps, men and women of all sizes and body types can comfortably and confidently enjoy this apron. And unlike other aprons, you won’t struggle to get this one over your head ✔ Unlimited Uses In and Around The Home: Although it’s incredibly useful in the kitchen, you’ll find yourself reaching for this apron over and over again. You’ll wonder how you ever lived without it! Ideas for use include painting, gardening, restaurant work, waiters, waitresses, cooking, grilling, BBQ, tailgating, baking, carpentry, bartending, and more! Protect your clothing with this versatile bib apron in 2 color choices ✔ Easy to Wash for Years of Use: Caring for your apron shouldn’t be a chore. Simply throw it into the washing machine on cold and lay it flat to dry. The solid stitching ensures seams won’t come loose in the wash, so no frayed edges'),\n",
       " Document(metadata={'title': 'Denim Apron with 3 Pockets | Multipurpose Canvas Apron for BBQ, Gardening, Painting, Carpentry'}, page_content='𝐋𝐈𝐆𝐇𝐓𝐖𝐄𝐈𝐆𝐇𝐓 & 𝐂𝐎𝐌𝐅𝐎𝐑𝐓𝐁𝐀𝐋𝐄 – Made with durable canvas denim, our 100% cotton chefs apron offers a soft, lightweight, and breathable fabric that can be comfortably worn in the summer heat while you are grilling, gardening, painting and much more! 𝐏𝐑𝐀𝐂𝐓𝐈𝐂𝐀𝐋 𝐃𝐄𝐒𝐈𝐆𝐍 – Besides looking sharp with a wrinkle-resistant design, our denim apron features three front pockets to keep your phone, tools, and grilling equipment snug while you work on your craft. Into gardening, painting, or auto repair? Keep everything neat and organized with plenty of room for your pens, pocketknives, nails, screws, paintbrushes, and everything in between. 𝐕𝐄𝐑𝐒𝐀𝐓𝐈𝐋𝐄 𝐔𝐒𝐄 – While an incredibly useful BBQ apron for grilling with family or tailgating, you will find yourself reaching for this apron over and over! Protect your clothing with this versatile denim apron whether you are into painting, gardening, baking, carpentry, bartending and more! 𝐎𝐍𝐄 𝐒𝐈𝐙𝐄 𝐅𝐈𝐓𝐒 𝐀𝐋𝐋 – Never worry about your apron pulling on your neck with our extra-long crisscross straps that rest softly on your shoulders and allow you to adjust to your liking. Men and Women of all sizes can comfortably and confidently enjoy this apron with a customized fit every time! Size: 31.9\"L x 23.6\"W 𝐄𝐀𝐒𝐘 𝐂𝐀𝐑𝐄 – Machine washable and extremely durable, the solid stitching ensures seams will not come loose in the wash and no frayed edges. Simply throw it in the washing machine on cold, lay it flat to dry and enjoy years of use.'),\n",
       " Document(metadata={'title': 'Camel Brown Boys & Girls Rib Knit Beanie Hat'}, page_content='𝐂𝐎𝐌𝐅𝐎𝐑𝐓𝐀𝐁𝐋𝐄 & 𝐖𝐀𝐑𝐌 – Our Awhale Brown Beanie Winter hat provides men and women a soft, lightweight cap to ride out the winter in style. The ultra-soft material keeps the head cozy in the winter with enough breathability for warmer days. 𝐎𝐍𝐄 𝐒𝐈𝐙𝐄 𝐅𝐈𝐓𝐒 𝐌𝐎𝐒𝐓 – With stretchy material, our brown winter beanie is flexible to fit most head circumferences and can be adjusted to your liking! 𝐅𝐎𝐑 𝐀𝐍𝐘 𝐎𝐂𝐂𝐀𝐒𝐈𝐎𝐍 – Our winter beanie hat with no logo is perfect for any casual outfit and suitable for any outdoor activities such as skiing, running, hiking, skating, walking, camping and so on. Do not let the cold stop you from enjoying yourself in the Autumn and Winter! 𝐈𝐃𝐄𝐀𝐋 𝐆𝐈𝐅𝐓 – Boost your style with our ultra-comfortable unisex beanie hat this holiday season! Perfect as a birthday gift, Thanksgiving gift, Christmas gift and New Year’s Gift! 𝐀𝐖𝐇𝐀𝐋𝐄 𝐁𝐑𝐀𝐍𝐃 – Welcome to AWHALE, where our designers are obsessed with combining High-Quality Materials and Chic Design to bring joy and laughter to Girls and Boys. Your child will love wearing our stylish outfits, and as everyone knows, there is nothing more adorable than a happy and fashionable child!')]"
      ]
     },
     "execution_count": 11,
     "metadata": {},
     "output_type": "execute_result"
    }
   ],
   "source": [
    "pickle.load(open(\"/Users/isaac/programming/articulateai/AgentOrg/examples/shopify/documents.pkl\", 'rb'))"
   ]
  },
  {
   "cell_type": "code",
   "execution_count": null,
   "metadata": {},
   "outputs": [],
   "source": []
  }
 ],
 "metadata": {
  "kernelspec": {
   "display_name": "agentorg",
   "language": "python",
   "name": "python3"
  },
  "language_info": {
   "codemirror_mode": {
    "name": "ipython",
    "version": 3
   },
   "file_extension": ".py",
   "mimetype": "text/x-python",
   "name": "python",
   "nbconvert_exporter": "python",
   "pygments_lexer": "ipython3",
   "version": "3.10.15"
  }
 },
 "nbformat": 4,
 "nbformat_minor": 2
}
